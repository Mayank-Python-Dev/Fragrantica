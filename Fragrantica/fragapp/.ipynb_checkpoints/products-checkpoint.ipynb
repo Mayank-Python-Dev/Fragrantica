{
 "cells": [
  {
   "cell_type": "code",
   "execution_count": 1,
   "id": "43f01f0d",
   "metadata": {},
   "outputs": [],
   "source": [
    "import os\n",
    "import django\n",
    "os.environ.setdefault('DJANGO_SETTINGS_MODULE', 'Fragrantica.settings')\n",
    "os.environ[\"DJANGO_ALLOW_ASYNC_UNSAFE\"] = \"true\"\n",
    "django.setup()"
   ]
  },
  {
   "cell_type": "code",
   "execution_count": null,
   "id": "5865c634",
   "metadata": {},
   "outputs": [],
   "source": [
    "from django_pandas.io import read_frame\n",
    "import pandas as pd\n",
    "from fragapp.models import *"
   ]
  }
 ],
 "metadata": {
  "kernelspec": {
   "display_name": "Django Shell-Plus",
   "language": "python",
   "name": "django_extensions"
  },
  "language_info": {
   "codemirror_mode": {
    "name": "ipython",
    "version": 3
   },
   "file_extension": ".py",
   "mimetype": "text/x-python",
   "name": "python",
   "nbconvert_exporter": "python",
   "pygments_lexer": "ipython3",
   "version": "3.8.8"
  }
 },
 "nbformat": 4,
 "nbformat_minor": 5
}
