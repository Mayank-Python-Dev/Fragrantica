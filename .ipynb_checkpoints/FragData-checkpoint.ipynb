{
 "cells": [
  {
   "cell_type": "code",
   "execution_count": 1,
   "id": "7beb0512",
   "metadata": {},
   "outputs": [],
   "source": [
    "import pandas as pd"
   ]
  },
  {
   "cell_type": "code",
   "execution_count": null,
   "id": "1ae0272a",
   "metadata": {},
   "outputs": [],
   "source": [
    "brand = [{'Brand_Name': 'April Aromatics',\n",
    "  'Brand_Official_link': 'http://aprilaromatics.com/',\n",
    "  'Brands_Activity': 'Natural Perfumery',\n",
    "  'Brands_Country': 'Germany',\n",
    "  'About_Brand': 'April Aromatics was founded in New York by Tanja Bochnig. Since 2008 the brand has been based in Berlin. The line presents a range of natural perfumes and follows a holistic approach. With April Aromatics, Tanja Bochnig lives an ideal that only a few perfumers worldwide pursue: all ingredients are certified organic or wild crafted whenever available. 100% of the ingredients are from authentic, pure and natural origin. April Aromatics does not use animal derived ingredients, that involve killing and torturing animals. The perfumes are based on organic jojoba oil or organic alcohol. All packagings are recyclable. \"I strongly believe that people can feel the love and energy I give into my perfumes—may it be conscious or unconscious. Adding chemical ingredients into natural essences is like putting MSG on your organic food. Trust in the power of nature. That‘s all we need.“—Tanja Bochnig Designer April Aromatics has 35 perfumes in our fragrance base. April Aromatics is a new fragrance brand. The earliest edition was created in 2011 and the newest is from 2020. The nose who worked on the fragrances is Tanja Bochnig.',\n",
    "  'Link': 'https://www.fragrantica.com/designers/April-Aromatics.html',\n",
    "  'Image': 'https://fimgs.net/mdimg/dizajneri/o.863.jpg'},\n",
    " {'Brand_Name': \"Adopt' by Reserve Naturelle\",\n",
    "  'Brand_Official_link': 'https://www.adopt.fr/',\n",
    "  'Brands_Activity': 'Cosmetics',\n",
    "  'Brands_Country': 'France',\n",
    "  'About_Brand': \"Designer Adopt' by Reserve Naturelle has 126 perfumes in our fragrance base. Adopt' by Reserve Naturelle is a new fragrance brand. The earliest edition was created in 2017 and the newest is from 2021. The nose who worked on the fragrances is Dominique Monlun\",\n",
    "  'Link': 'https://www.fragrantica.com/designers/Adopt-by-Reserve-Naturelle.html',\n",
    "  'Image': 'https://fimgs.net/mdimg/dizajneri/o.1852.jpg'}]"
   ]
  },
  {
   "cell_type": "code",
   "execution_count": null,
   "id": "7455f830",
   "metadata": {},
   "outputs": [],
   "source": [
    "df = pd.DataFrame()"
   ]
  }
 ],
 "metadata": {
  "kernelspec": {
   "display_name": "Python 3",
   "language": "python",
   "name": "python3"
  },
  "language_info": {
   "codemirror_mode": {
    "name": "ipython",
    "version": 3
   },
   "file_extension": ".py",
   "mimetype": "text/x-python",
   "name": "python",
   "nbconvert_exporter": "python",
   "pygments_lexer": "ipython3",
   "version": "3.8.8"
  }
 },
 "nbformat": 4,
 "nbformat_minor": 5
}
